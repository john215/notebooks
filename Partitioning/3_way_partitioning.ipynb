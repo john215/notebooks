{
 "cells": [
  {
   "cell_type": "markdown",
   "id": "1d5e8652-e2be-452a-8ea9-fff53bf38fcf",
   "metadata": {},
   "source": [
    "### Three Way Partitioning"
   ]
  },
  {
   "cell_type": "markdown",
   "id": "694fe74a-fd6a-450a-8db3-9695192e275d",
   "metadata": {},
   "source": [
    "Consider the array [6, 9, 11, 3, 8, 5, 19, 21] with l = 7, and h = 12. Then, [3, 5, 6, 8, 9, 11, 19, 21] as well as [ 5, 3, 6, 9, 8, 11, 21, 19] are both correct solutions to three way partitioning.\n",
    "\n",
    "three partitions can be obtained consisting of the following:\n",
    "\n",
    "1. Values less than l.\n",
    "2. Values between l and h.\n",
    "3. Values greater than h."
   ]
  },
  {
   "cell_type": "code",
   "execution_count": 4,
   "id": "938acff9-9ec9-4166-9439-d8c47db790fd",
   "metadata": {
    "tags": []
   },
   "outputs": [],
   "source": [
    "public void swap(int[] arr, int i , int j){\n",
    "    int temp = arr[i];\n",
    "    arr[i] = arr[j];\n",
    "    arr[j] = temp;\n",
    "}\n",
    "\n",
    "public void partition(int arr[], int l, int h){\n",
    "    int low = 0, high = arr.length - 1;\n",
    "    \n",
    "    for(int i = 0; i < arr.length - 1; i++){\n",
    "        if(arr[i] < l){\n",
    "            swap(arr, i, low);\n",
    "            low++;\n",
    "        } else if(arr[i] > h){\n",
    "            swap(arr, i, high);\n",
    "            high--;\n",
    "        }\n",
    "    }\n",
    "}"
   ]
  },
  {
   "cell_type": "code",
   "execution_count": 5,
   "id": "9b124eca-a828-4e72-bf3e-d9092b6caac8",
   "metadata": {
    "tags": []
   },
   "outputs": [
    {
     "data": {
      "text/plain": [
       "[6, 3, 5, 9, 8, 11, 21, 19]"
      ]
     },
     "execution_count": 5,
     "metadata": {},
     "output_type": "execute_result"
    }
   ],
   "source": [
    "int arr[] = {6, 9, 11, 3, 8, 5, 19, 21};\n",
    "partition(arr, 7, 12);\n",
    "Arrays.toString(arr);"
   ]
  },
  {
   "cell_type": "code",
   "execution_count": 6,
   "id": "7844b119-a9e7-42dc-9da9-1b3e01a40fc6",
   "metadata": {
    "tags": []
   },
   "outputs": [
    {
     "data": {
      "text/plain": [
       "[0, 0, 0, 1, 1, 1, 2, 2]"
      ]
     },
     "execution_count": 6,
     "metadata": {},
     "output_type": "execute_result"
    }
   ],
   "source": [
    "int arr[] = {1, 0, 2, 1, 0, 1, 2, 0};\n",
    "partition(arr, 1, 1);\n",
    "Arrays.toString(arr);"
   ]
  },
  {
   "cell_type": "code",
   "execution_count": null,
   "id": "c3945818-02c0-4de5-8741-2657e1c799bb",
   "metadata": {},
   "outputs": [],
   "source": []
  }
 ],
 "metadata": {
  "kernelspec": {
   "display_name": "Java",
   "language": "java",
   "name": "java"
  },
  "language_info": {
   "codemirror_mode": "java",
   "file_extension": ".jshell",
   "mimetype": "text/x-java-source",
   "name": "Java",
   "pygments_lexer": "java",
   "version": "11.0.16.1+1-LTS-1"
  }
 },
 "nbformat": 4,
 "nbformat_minor": 5
}
