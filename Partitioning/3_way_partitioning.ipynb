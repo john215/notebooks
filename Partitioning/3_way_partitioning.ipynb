{
 "cells": [
  {
   "cell_type": "markdown",
   "id": "1d5e8652-e2be-452a-8ea9-fff53bf38fcf",
   "metadata": {
    "tags": []
   },
   "source": [
    "### Three Way Partitioning"
   ]
  },
  {
   "cell_type": "markdown",
   "id": "694fe74a-fd6a-450a-8db3-9695192e275d",
   "metadata": {},
   "source": [
    "Three-way partitioning is a technique used in computer science to sort an array or a list of elements into three parts.\n",
    "\n",
    "1. elements less than a certain value\n",
    "2. elements equal to that value\n",
    "3. elements greater than that value."
   ]
  },
  {
   "cell_type": "markdown",
   "id": "2c2d86a8-9900-4321-8435-eb0a576d865b",
   "metadata": {},
   "source": [
    "##### Swap function"
   ]
  },
  {
   "cell_type": "code",
   "execution_count": 1,
   "id": "0f1d4c2c-30a0-439d-8671-2e3b76318ece",
   "metadata": {},
   "outputs": [],
   "source": [
    "public void swap(int[] arr, int i , int j){\n",
    "    int temp = arr[i];\n",
    "    arr[i] = arr[j];\n",
    "    arr[j] = temp;\n",
    "}"
   ]
  },
  {
   "cell_type": "code",
   "execution_count": 2,
   "id": "938acff9-9ec9-4166-9439-d8c47db790fd",
   "metadata": {
    "tags": []
   },
   "outputs": [],
   "source": [
    "public void threeWayPartition(int arr[], int pivot){\n",
    "    int i = 0, low = 0, high = arr.length - 1;\n",
    "    \n",
    "    while(i <= high){\n",
    "        if(arr[i] < pivot){\n",
    "            swap(arr, i, low);\n",
    "            i++;\n",
    "            low++;\n",
    "        } else if(arr[i] > pivot){\n",
    "            swap(arr, i, high);\n",
    "            high--;\n",
    "        }else{\n",
    "            i++;\n",
    "        }\n",
    "    }\n",
    "}"
   ]
  },
  {
   "cell_type": "code",
   "execution_count": 3,
   "id": "9b124eca-a828-4e72-bf3e-d9092b6caac8",
   "metadata": {
    "tags": []
   },
   "outputs": [
    {
     "data": {
      "text/plain": [
       "[6, 5, 3, 8, 11, 19, 21, 9]"
      ]
     },
     "execution_count": 3,
     "metadata": {},
     "output_type": "execute_result"
    }
   ],
   "source": [
    "int arr[] = {6, 9, 11, 3, 8, 5, 19, 21};\n",
    "threeWayPartition(arr, 7);\n",
    "Arrays.toString(arr);"
   ]
  },
  {
   "cell_type": "code",
   "execution_count": null,
   "id": "401f14f0-1357-4138-88b6-24f7b051cfa7",
   "metadata": {},
   "outputs": [],
   "source": []
  }
 ],
 "metadata": {
  "kernelspec": {
   "display_name": "Java",
   "language": "java",
   "name": "java"
  },
  "language_info": {
   "codemirror_mode": "java",
   "file_extension": ".jshell",
   "mimetype": "text/x-java-source",
   "name": "Java",
   "pygments_lexer": "java",
   "version": "11.0.16.1+1-LTS-1"
  }
 },
 "nbformat": 4,
 "nbformat_minor": 5
}
