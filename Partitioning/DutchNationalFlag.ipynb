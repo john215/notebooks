{
 "cells": [
  {
   "cell_type": "markdown",
   "id": "5c62c10d-66f3-450d-a0ca-2f5eaae7756c",
   "metadata": {},
   "source": [
    "#### Dutch National Flag problem is the variation of three way partitioning\n",
    "\n",
    "It can be solved in two ways"
   ]
  },
  {
   "cell_type": "markdown",
   "id": "9fe0588b-3b68-4264-9cf0-75a48955927c",
   "metadata": {},
   "source": [
    "### Approach 1"
   ]
  },
  {
   "cell_type": "markdown",
   "id": "3a0fdc91-fa12-49cc-b1bc-f4c8b4fb24c2",
   "metadata": {
    "tags": []
   },
   "source": [
    "**Pivot value as 1**\n",
    "\n",
    "[three way partition](https://github.com/john215/notebooks/blob/dev/Partitioning/3_way_partitioning.ipynb)\n"
   ]
  },
  {
   "cell_type": "markdown",
   "id": "1a809689-8f01-4e67-88d5-fe62c9708729",
   "metadata": {},
   "source": [
    "### Approach 2"
   ]
  },
  {
   "cell_type": "markdown",
   "id": "18c10725-5eba-4111-9bbe-df05e8496d59",
   "metadata": {
    "tags": []
   },
   "source": [
    "**Use three pointers**\n",
    "\n",
    "    1. low - This pointer represents the boundary between the subarray of elements less than 1 and the subarray of    elements equal to 1. Initially, it is set to the beginning of the array.\n",
    "\n",
    "    2. mid - This pointer represents the boundary between the subarray of elements equal to 1 and the subarray of elements greater than 1. Initially, it is also set to the beginning of the array.\n",
    "\n",
    "    3. high - This pointer represents the boundary between the subarray of elements greater than 1 and the subarray of unprocessed elements. Initially, it is set to the end of the array."
   ]
  },
  {
   "cell_type": "code",
   "execution_count": 1,
   "id": "395f78d7-5c0b-4757-a638-ec4660dda064",
   "metadata": {},
   "outputs": [],
   "source": [
    "public void swap(int[] arr, int i , int j){\n",
    "    int temp = arr[i];\n",
    "    arr[i] = arr[j];\n",
    "    arr[j] = temp;\n",
    "}"
   ]
  },
  {
   "cell_type": "code",
   "execution_count": 2,
   "id": "2e6c8554-cb21-4bd9-b031-83ab6aa05ebf",
   "metadata": {
    "tags": []
   },
   "outputs": [],
   "source": [
    "public void sortColors(int arr[]){\n",
    "    int low = 0, mid = 0, high = arr.length - 1;\n",
    "    \n",
    "    while(mid <= high){\n",
    "        if(arr[mid] == 0){\n",
    "            swap(arr, low++, mid++);\n",
    "        } else if(arr[mid] == 2){\n",
    "            swap(arr, mid, high--);\n",
    "        }else{\n",
    "            mid++;\n",
    "        }\n",
    "    }\n",
    "}"
   ]
  },
  {
   "cell_type": "code",
   "execution_count": 3,
   "id": "c4d75499-92a5-4b4a-9508-89b1dbc5ec9f",
   "metadata": {
    "tags": []
   },
   "outputs": [
    {
     "data": {
      "text/plain": [
       "[0, 0, 1, 1, 1, 2, 2]"
      ]
     },
     "execution_count": 3,
     "metadata": {},
     "output_type": "execute_result"
    }
   ],
   "source": [
    "int arr[] = {2, 1, 0, 2, 1, 1, 0};\n",
    "sortColors(arr);\n",
    "Arrays.toString(arr);"
   ]
  }
 ],
 "metadata": {
  "kernelspec": {
   "display_name": "Java",
   "language": "java",
   "name": "java"
  },
  "language_info": {
   "codemirror_mode": "java",
   "file_extension": ".jshell",
   "mimetype": "text/x-java-source",
   "name": "Java",
   "pygments_lexer": "java",
   "version": "11.0.16.1+1-LTS-1"
  }
 },
 "nbformat": 4,
 "nbformat_minor": 5
}
