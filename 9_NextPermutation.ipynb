{
 "cells": [
  {
   "cell_type": "markdown",
   "id": "50131d86-35fc-4403-ad79-7d9783f8db51",
   "metadata": {},
   "source": [
    "### Next permutation"
   ]
  },
  {
   "cell_type": "markdown",
   "id": "4975c970-66e3-43ee-b975-e6e0aba0a44a",
   "metadata": {},
   "source": [
    "The \"next permutation\" of a sequence is defined as the lexicographically next greater permutation. In other words, it is the smallest permutation that is greater than the current permutation. \n",
    "\n",
    "For example, the sequence **[1, 2, 3]** has six permutations:\n",
    "\n",
    "*[2, 3, 1] is the next greater permuatation of [2, 1, 3]*\n",
    "\n",
    "1. [1, 2, 3]\n",
    "2. [1, 3, 2]\n",
    "3. [2, 1, 3]\n",
    "4. [2, 3, 1]\n",
    "5. [3, 1, 2]\n",
    "6. [3, 2, 1]\n"
   ]
  },
  {
   "cell_type": "markdown",
   "id": "949f6908-4b3d-4171-957c-b8f81df65bf8",
   "metadata": {
    "tags": []
   },
   "source": [
    "#### Approach 1\n",
    "\n",
    "Generate all permutations and store it in the list and iterate the list and find the next greater permutation\n",
    "\n",
    "[StringPermutation]()\n",
    "\n",
    "The algorithm has a time complexity of **O(n*n!)**, n represents the number of elements present in the input sequence. n! represent all possible permutation"
   ]
  },
  {
   "cell_type": "markdown",
   "id": "1e5f3e2a-8fd2-45ec-a9e1-bdcde3cf802b",
   "metadata": {
    "tags": []
   },
   "source": [
    "#### Approach 2\n",
    "\n",
    "Use next permutation algorithm to find the lexicographically next greater permutation of a sequence. The algorithm has a time complexity of **O(n)**, where n is the length of the sequence."
   ]
  },
  {
   "cell_type": "code",
   "execution_count": 1,
   "id": "f66d5587-b2b4-4424-9296-b7b663448183",
   "metadata": {},
   "outputs": [
    {
     "name": "stdout",
     "output_type": "stream",
     "text": [
      "Swap: 3 & 4\n",
      "Before swap: [1, 2, 3, 6, 5, 4]\n",
      "After swap: [1, 2, 4, 6, 5, 3]\n",
      "Reverse sub array: 3-5\n"
     ]
    }
   ],
   "source": [
    "public void solve(int[] nums){\n",
    "    \n",
    "    int i = nums.length - 2; \n",
    "    while(i >= 0 && nums[i] >= nums[i+1]) i--;\n",
    "    if(i >= 0){\n",
    "        int j = nums.length - 1;\n",
    "        while(j >= 0 && nums[i] >= nums[j]) j--;\n",
    "        System.out.println(\"Swap: \"+ nums[i] + \" & \" + nums[j]);\n",
    "        System.out.println(\"Before swap: \" + Arrays.toString(nums));\n",
    "        int temp = nums[i];\n",
    "        nums[i] = nums[j];\n",
    "        nums[j] = temp;\n",
    "        System.out.println(\"After swap: \" + Arrays.toString(nums));\n",
    "    }\n",
    "    int start = i + 1;\n",
    "    int end = nums.length - 1;\n",
    "    System.out.println(\"Reverse sub array: \"+ start + \"-\" + end);\n",
    "    while(start <= end){\n",
    "        int temp = nums[start];\n",
    "        nums[start]= nums[end];\n",
    "        nums[end] = temp;\n",
    "        \n",
    "        start++;\n",
    "        end--;\n",
    "    }\n",
    "}\n",
    "int [] nums = {1, 2, 3, 6, 5, 4};\n",
    "solve(nums);"
   ]
  },
  {
   "cell_type": "code",
   "execution_count": 2,
   "id": "c83baa28-e85d-4fc7-9c4c-a6bc2486817b",
   "metadata": {},
   "outputs": [
    {
     "data": {
      "text/plain": [
       "[1, 2, 4, 3, 5, 6]"
      ]
     },
     "execution_count": 2,
     "metadata": {},
     "output_type": "execute_result"
    }
   ],
   "source": [
    "Arrays.toString(nums);"
   ]
  }
 ],
 "metadata": {
  "kernelspec": {
   "display_name": "Java",
   "language": "java",
   "name": "java"
  },
  "language_info": {
   "codemirror_mode": "java",
   "file_extension": ".jshell",
   "mimetype": "text/x-java-source",
   "name": "Java",
   "pygments_lexer": "java",
   "version": "11.0.16.1+1-LTS-1"
  }
 },
 "nbformat": 4,
 "nbformat_minor": 5
}
