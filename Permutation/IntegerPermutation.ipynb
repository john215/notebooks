{
 "cells": [
  {
   "cell_type": "markdown",
   "id": "d20b7191-0ac8-4d52-9ab5-7e630517a1f6",
   "metadata": {
    "tags": []
   },
   "source": [
    "#### Integer permutation"
   ]
  },
  {
   "cell_type": "markdown",
   "id": "142319d8-01a1-4f4c-9f88-99f517d9842d",
   "metadata": {},
   "source": [
    "Rearranging a sequence of integers into different orders. \n",
    "For example, the sequence **[1, 2, 3]** has six permutations:\n",
    "1. [1, 2, 3]\n",
    "2. [1, 3, 2]\n",
    "3. [2, 1, 3]\n",
    "4. [2, 3, 1]\n",
    "5. [3, 1, 2]\n",
    "6. [3, 2, 1]\n",
    "\n",
    "*Total number of permutations = n! = 3! = 3 * 2 * 1 = 6*"
   ]
  },
  {
   "cell_type": "markdown",
   "id": "f7af81bd-5b9c-48cd-9ef6-0df9a536ecce",
   "metadata": {},
   "source": [
    "##### Swap function"
   ]
  },
  {
   "cell_type": "code",
   "execution_count": 1,
   "id": "b1e9994f-44ff-475e-b6dd-1481ac02922f",
   "metadata": {
    "tags": []
   },
   "outputs": [],
   "source": [
    "public void swap(int[] nums, int i , int j){\n",
    "    int temp = nums[i];\n",
    "    nums[i] = nums[j];\n",
    "    nums[j] = temp;\n",
    "}"
   ]
  },
  {
   "cell_type": "code",
   "execution_count": 2,
   "id": "bc53b63f-5d40-4ea6-badf-40d1f7c79ec7",
   "metadata": {
    "tags": []
   },
   "outputs": [],
   "source": [
    "import java.util.*;"
   ]
  },
  {
   "cell_type": "code",
   "execution_count": 3,
   "id": "004c05c5-70e5-45ae-97e9-e0c04b6c9b81",
   "metadata": {
    "tags": []
   },
   "outputs": [],
   "source": [
    "public void solve(int[] nums, int start, int end, List<List<Integer>> results){\n",
    "    //Base case\n",
    "    if(start == end){\n",
    "        List<Integer> seq= new ArrayList<>();\n",
    "        for(int num: nums)\n",
    "            seq.add(num);\n",
    "        results.add(seq);\n",
    "        return;\n",
    "    }\n",
    "    \n",
    "    for(int i = start; i <= end; i++){\n",
    "            swap(nums, start, i);\n",
    "            solve(nums, start+1, end, results);\n",
    "            swap(nums, start, i);\n",
    "    }\n",
    "}"
   ]
  },
  {
   "cell_type": "code",
   "execution_count": 4,
   "id": "711b6ad8-bb2d-41f4-b659-ca99c11a5f66",
   "metadata": {
    "tags": []
   },
   "outputs": [],
   "source": [
    "List<List<Integer>> results = new ArrayList<>();\n",
    "int[] nums = {1, 2, 3};\n",
    "solve(nums, 0, 2, results);"
   ]
  },
  {
   "cell_type": "code",
   "execution_count": 5,
   "id": "77905200-76e2-47a5-a0f2-86ec9e6185b0",
   "metadata": {},
   "outputs": [
    {
     "name": "stdout",
     "output_type": "stream",
     "text": [
      "[1, 2, 3]\n",
      "[1, 3, 2]\n",
      "[2, 1, 3]\n",
      "[2, 3, 1]\n",
      "[3, 2, 1]\n",
      "[3, 1, 2]\n"
     ]
    }
   ],
   "source": [
    "results.stream().forEach(System.out::println);"
   ]
  },
  {
   "cell_type": "code",
   "execution_count": null,
   "id": "c42f841d-55eb-4dfb-8349-614b6731ce51",
   "metadata": {},
   "outputs": [],
   "source": []
  }
 ],
 "metadata": {
  "kernelspec": {
   "display_name": "Java",
   "language": "java",
   "name": "java"
  },
  "language_info": {
   "codemirror_mode": "java",
   "file_extension": ".jshell",
   "mimetype": "text/x-java-source",
   "name": "Java",
   "pygments_lexer": "java",
   "version": "11.0.16.1+1-LTS-1"
  }
 },
 "nbformat": 4,
 "nbformat_minor": 5
}
