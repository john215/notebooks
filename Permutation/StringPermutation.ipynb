{
 "cells": [
  {
   "cell_type": "markdown",
   "id": "d20b7191-0ac8-4d52-9ab5-7e630517a1f6",
   "metadata": {
    "tags": []
   },
   "source": [
    "#### String permutation"
   ]
  },
  {
   "cell_type": "markdown",
   "id": "142319d8-01a1-4f4c-9f88-99f517d9842d",
   "metadata": {},
   "source": [
    "Rearranging the characters of string into different orders. \n",
    "For example, the string **abc** has six permutations:\n",
    "1. abc\n",
    "2. acb\n",
    "3. bac\n",
    "4. bca\n",
    "5. cab\n",
    "6. cba\n",
    "\n",
    "*Total number of permutations = n! = 3! = 3 * 2 * 1 = 6*"
   ]
  },
  {
   "cell_type": "markdown",
   "id": "f7af81bd-5b9c-48cd-9ef6-0df9a536ecce",
   "metadata": {},
   "source": [
    "##### Swap function"
   ]
  },
  {
   "cell_type": "code",
   "execution_count": 1,
   "id": "b1e9994f-44ff-475e-b6dd-1481ac02922f",
   "metadata": {
    "tags": []
   },
   "outputs": [],
   "source": [
    "public void swap(char[] chars, int i , int j){\n",
    "    char temp = chars[i];\n",
    "    chars[i] = chars[j];\n",
    "    chars[j] = temp;\n",
    "}"
   ]
  },
  {
   "cell_type": "code",
   "execution_count": 2,
   "id": "bc53b63f-5d40-4ea6-badf-40d1f7c79ec7",
   "metadata": {
    "tags": []
   },
   "outputs": [],
   "source": [
    "import java.util.*;"
   ]
  },
  {
   "cell_type": "code",
   "execution_count": 3,
   "id": "004c05c5-70e5-45ae-97e9-e0c04b6c9b81",
   "metadata": {
    "tags": []
   },
   "outputs": [],
   "source": [
    "public void solve(char[] chars, int start, int end, List<String> results){\n",
    "    //Base case\n",
    "    if(start == end){\n",
    "        results.add(String.valueOf(chars));\n",
    "        return;\n",
    "    }\n",
    "    \n",
    "    for(int i = start; i <= end; i++){\n",
    "            swap(chars, start, i);\n",
    "            solve(chars, start+1, end, results);\n",
    "            swap(chars, start, i);\n",
    "    }\n",
    "}"
   ]
  },
  {
   "cell_type": "code",
   "execution_count": 4,
   "id": "711b6ad8-bb2d-41f4-b659-ca99c11a5f66",
   "metadata": {
    "tags": []
   },
   "outputs": [],
   "source": [
    "List<String> results = new ArrayList<>();\n",
    "char[] chars = \"abc\".toCharArray();\n",
    "solve(chars, 0, 2, results);"
   ]
  },
  {
   "cell_type": "code",
   "execution_count": 5,
   "id": "77905200-76e2-47a5-a0f2-86ec9e6185b0",
   "metadata": {},
   "outputs": [
    {
     "data": {
      "text/plain": [
       "[abc, acb, bac, bca, cba, cab]"
      ]
     },
     "execution_count": 5,
     "metadata": {},
     "output_type": "execute_result"
    }
   ],
   "source": [
    "results"
   ]
  },
  {
   "cell_type": "code",
   "execution_count": null,
   "id": "c42f841d-55eb-4dfb-8349-614b6731ce51",
   "metadata": {},
   "outputs": [],
   "source": []
  }
 ],
 "metadata": {
  "kernelspec": {
   "display_name": "Java",
   "language": "java",
   "name": "java"
  },
  "language_info": {
   "codemirror_mode": "java",
   "file_extension": ".jshell",
   "mimetype": "text/x-java-source",
   "name": "Java",
   "pygments_lexer": "java",
   "version": "11.0.16.1+1-LTS-1"
  }
 },
 "nbformat": 4,
 "nbformat_minor": 5
}
